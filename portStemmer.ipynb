{
 "cells": [
  {
   "cell_type": "code",
   "execution_count": 1,
   "id": "6abec73a",
   "metadata": {},
   "outputs": [],
   "source": [
    "from nltk.stem import PorterStemmer"
   ]
  },
  {
   "cell_type": "code",
   "execution_count": 2,
   "id": "5644c40e",
   "metadata": {},
   "outputs": [],
   "source": [
    "ps=PorterStemmer() #ingilizcede kök bulma yöntemi"
   ]
  },
  {
   "cell_type": "code",
   "execution_count": 3,
   "id": "58027715",
   "metadata": {},
   "outputs": [],
   "source": [
    "words = ['drive', 'driving','driver','drives','drove','cats','children']"
   ]
  },
  {
   "cell_type": "code",
   "execution_count": 4,
   "id": "da5fe34a",
   "metadata": {},
   "outputs": [
    {
     "name": "stdout",
     "output_type": "stream",
     "text": [
      "drive\n",
      "drive\n",
      "driver\n",
      "drive\n",
      "drove\n",
      "cat\n",
      "children\n"
     ]
    }
   ],
   "source": [
    "for w in words:\n",
    "    print(ps.stem(w))"
   ]
  },
  {
   "cell_type": "code",
   "execution_count": null,
   "id": "e169f04e",
   "metadata": {},
   "outputs": [],
   "source": [
    "#lemitizing de kök bulmaya yarıyor."
   ]
  }
 ],
 "metadata": {
  "kernelspec": {
   "display_name": "Python 3 (ipykernel)",
   "language": "python",
   "name": "python3"
  },
  "language_info": {
   "codemirror_mode": {
    "name": "ipython",
    "version": 3
   },
   "file_extension": ".py",
   "mimetype": "text/x-python",
   "name": "python",
   "nbconvert_exporter": "python",
   "pygments_lexer": "ipython3",
   "version": "3.9.13"
  }
 },
 "nbformat": 4,
 "nbformat_minor": 5
}
