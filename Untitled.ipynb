{
 "cells": [
  {
   "cell_type": "code",
   "execution_count": 1,
   "id": "7d9cb3a9",
   "metadata": {},
   "outputs": [],
   "source": [
    "from nltk.stem import PorterStemmer"
   ]
  },
  {
   "cell_type": "code",
   "execution_count": 2,
   "id": "0101c23c",
   "metadata": {},
   "outputs": [],
   "source": [
    "ps=PorterStemmer()"
   ]
  },
  {
   "cell_type": "code",
   "execution_count": 3,
   "id": "fffb9be5",
   "metadata": {},
   "outputs": [],
   "source": [
    "words = ['drive', 'driving','driver','drives','drove','cats','children']"
   ]
  },
  {
   "cell_type": "code",
   "execution_count": null,
   "id": "e4b0cb67",
   "metadata": {},
   "outputs": [],
   "source": [
    "for w in words:\n",
    "    "
   ]
  }
 ],
 "metadata": {
  "kernelspec": {
   "display_name": "Python 3 (ipykernel)",
   "language": "python",
   "name": "python3"
  },
  "language_info": {
   "codemirror_mode": {
    "name": "ipython",
    "version": 3
   },
   "file_extension": ".py",
   "mimetype": "text/x-python",
   "name": "python",
   "nbconvert_exporter": "python",
   "pygments_lexer": "ipython3",
   "version": "3.9.13"
  }
 },
 "nbformat": 4,
 "nbformat_minor": 5
}
