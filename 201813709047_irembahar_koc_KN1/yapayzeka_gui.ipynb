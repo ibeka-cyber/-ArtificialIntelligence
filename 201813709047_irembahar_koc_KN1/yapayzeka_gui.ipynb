{
 "cells": [
  {
   "cell_type": "code",
   "execution_count": 16,
   "id": "c94fac42",
   "metadata": {},
   "outputs": [],
   "source": [
    "from tkinter import *\n",
    "import random,folium,csv\n",
    "from itertools import zip_longest\n",
    "\n",
    "window = Tk()\n",
    "Canvas=Canvas(window, height=300, width=600)\n",
    "Canvas.pack()\n",
    "\n",
    "koordinat=[] \n",
    "m=folium.Map(location=[39.650719,27.879761],zoom_start=15)\n",
    "def olustur():\n",
    "    for i in range(20):\n",
    "        y=random.uniform(26.800000, 28.500000)\n",
    "        x=random.uniform(39.500000,39.800000)\n",
    "        folium.Marker(location=[x,y]).add_to(m)\n",
    "        koordinat.append((x,y))\n",
    "        koordinat_dosya=[koordinat]\n",
    "    yazdir = zip_longest(*koordinat_dosya, fillvalue ='')\n",
    "    with open('sehirler_koordinat.csv', 'w', encoding='UTF8', newline='\\n') as myfile:\n",
    "        wr = csv.writer(myfile)\n",
    "        wr.writerows(yazdir)\n",
    "        myfile.close()    \n",
    "    m\n",
    "    \n",
    "        \n",
    "    \n",
    "\n",
    "frame_yazi=Frame(window,bg='pink')\n",
    "frame_yazi.place(relx=0.2, rely=0.1, relwidth=0.6, relheight=0.1)\n",
    "\n",
    "yazi_etiket=Label(frame_yazi,bg='Pink',text=\"Balıkesirden 20 nokta seçmek için butona tıklayınız :)\",\n",
    "                  font=\"Verdana 7 bold\",foreground='purple')\n",
    "yazi_etiket.pack(padx=10,pady=10,side=LEFT)\n",
    "\n",
    "olustur_butonu = Button(window, text=\"Konum oluştur\",command=olustur, padx = 10, pady=10,font=\"Verdana 7\",bg='#800080',\n",
    "                       foreground='white')\n",
    "olustur_butonu.place(relx=0.3, rely=0.25, relwidth=0.15, relheight=0.1)\n",
    "\n",
    "kapat_butonu = Button(window, text=\"Arayüzü kapat \",command=window.destroy, padx = 10, pady=10,font=\"Verdana 7\",\n",
    "                     bg='#800080',foreground='white')\n",
    "kapat_butonu.place(relx=0.5, rely=0.25, relwidth=0.15, relheight=0.1)\n",
    "\n",
    "m\n",
    "\n",
    "\n",
    "        \n",
    "window.mainloop()"
   ]
  },
  {
   "cell_type": "code",
   "execution_count": null,
   "id": "47c92772",
   "metadata": {},
   "outputs": [],
   "source": []
  },
  {
   "cell_type": "code",
   "execution_count": null,
   "id": "03271d70",
   "metadata": {},
   "outputs": [],
   "source": []
  },
  {
   "cell_type": "code",
   "execution_count": null,
   "id": "6ff8f7c1",
   "metadata": {},
   "outputs": [],
   "source": []
  }
 ],
 "metadata": {
  "kernelspec": {
   "display_name": "Python 3 (ipykernel)",
   "language": "python",
   "name": "python3"
  },
  "language_info": {
   "codemirror_mode": {
    "name": "ipython",
    "version": 3
   },
   "file_extension": ".py",
   "mimetype": "text/x-python",
   "name": "python",
   "nbconvert_exporter": "python",
   "pygments_lexer": "ipython3",
   "version": "3.9.13"
  }
 },
 "nbformat": 4,
 "nbformat_minor": 5
}
