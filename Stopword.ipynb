{
 "cells": [
  {
   "cell_type": "code",
   "execution_count": 1,
   "id": "fbffd077",
   "metadata": {},
   "outputs": [],
   "source": [
    "from nltk.corpus import stopwords\n",
    "from nltk.tokenize import word_tokenize"
   ]
  },
  {
   "cell_type": "code",
   "execution_count": 2,
   "id": "dd0737aa",
   "metadata": {},
   "outputs": [],
   "source": [
    "text=\"Alan Mathison Turing (23 Haziran 1912 – 7 Haziran 1954), İngiliz matematikçi, bilgisayar bilimcisi ve kriptolog. Bilgisayar biliminin kurucusu sayılır. Geliştirmiş olduğu Turing testi ile makinelerin ve bilgisayarların düşünme yetisine sahip olup olamayacakları konusunda bir kriter öne sürmüştür.I.Dünya Savaşı sırasında Alman şifrelerinin kırılmasında çok önemli bir rol oynadığı için savaş kahramanı sayılmıştır. Ayrıca Manchester Üniversitesi'nde çalıştığı yıllarda, Turing makinesi denilen algoritma tanımı ile modern bilgisayarların kavramsal temelini atmıştır.Adı ayrıca Princeton'da beraber çalıştığı tez hocası Alonzo Church ile geliştirdiği Church-Turing Hipotezi ile de matematik tarihine geçmiştir. Bu tez, bir algoritmayla tarif edilebilecek tüm hesaplamaların dört işlem, projeksiyon, eklemleme ve tarama operasyonları ile tarif edilebilecek hesaplamalardan ibaret olduğunu ifade eder. Bir matematiksel teorem olmaktan ziyade matematik felsefesi hakkında çürütülememiş bir hipotezdir.\""
   ]
  },
  {
   "cell_type": "code",
   "execution_count": 8,
   "id": "246a27e9",
   "metadata": {},
   "outputs": [
    {
     "name": "stdout",
     "output_type": "stream",
     "text": [
      "['acaba', 'ama', 'aslında', 'az', 'bazı', 'belki', 'biri', 'birkaç', 'birşey', 'biz', 'bu', 'çok', 'çünkü', 'da', 'daha', 'de', 'defa', 'diye', 'eğer', 'en', 'gibi', 'hem', 'hep', 'hepsi', 'her', 'hiç', 'için', 'ile', 'ise', 'kez', 'ki', 'kim', 'mı', 'mu', 'mü', 'nasıl', 'ne', 'neden', 'nerde', 'nerede', 'nereye', 'niçin', 'niye', 'o', 'sanki', 'şey', 'siz', 'şu', 'tüm', 've', 'veya', 'ya', 'yani']\n"
     ]
    }
   ],
   "source": [
    "stopwords=stopwords.words('turkish')\n",
    "print(stopwords)"
   ]
  },
  {
   "cell_type": "code",
   "execution_count": 4,
   "id": "8477e289",
   "metadata": {},
   "outputs": [
    {
     "data": {
      "text/plain": [
       "['i',\n",
       " 'me',\n",
       " 'my',\n",
       " 'myself',\n",
       " 'we',\n",
       " 'our',\n",
       " 'ours',\n",
       " 'ourselves',\n",
       " 'you',\n",
       " \"you're\",\n",
       " \"you've\",\n",
       " \"you'll\",\n",
       " \"you'd\",\n",
       " 'your',\n",
       " 'yours',\n",
       " 'yourself',\n",
       " 'yourselves',\n",
       " 'he',\n",
       " 'him',\n",
       " 'his',\n",
       " 'himself',\n",
       " 'she',\n",
       " \"she's\",\n",
       " 'her',\n",
       " 'hers',\n",
       " 'herself',\n",
       " 'it',\n",
       " \"it's\",\n",
       " 'its',\n",
       " 'itself',\n",
       " 'they',\n",
       " 'them',\n",
       " 'their',\n",
       " 'theirs',\n",
       " 'themselves',\n",
       " 'what',\n",
       " 'which',\n",
       " 'who',\n",
       " 'whom',\n",
       " 'this',\n",
       " 'that',\n",
       " \"that'll\",\n",
       " 'these',\n",
       " 'those',\n",
       " 'am',\n",
       " 'is',\n",
       " 'are',\n",
       " 'was',\n",
       " 'were',\n",
       " 'be',\n",
       " 'been',\n",
       " 'being',\n",
       " 'have',\n",
       " 'has',\n",
       " 'had',\n",
       " 'having',\n",
       " 'do',\n",
       " 'does',\n",
       " 'did',\n",
       " 'doing',\n",
       " 'a',\n",
       " 'an',\n",
       " 'the',\n",
       " 'and',\n",
       " 'but',\n",
       " 'if',\n",
       " 'or',\n",
       " 'because',\n",
       " 'as',\n",
       " 'until',\n",
       " 'while',\n",
       " 'of',\n",
       " 'at',\n",
       " 'by',\n",
       " 'for',\n",
       " 'with',\n",
       " 'about',\n",
       " 'against',\n",
       " 'between',\n",
       " 'into',\n",
       " 'through',\n",
       " 'during',\n",
       " 'before',\n",
       " 'after',\n",
       " 'above',\n",
       " 'below',\n",
       " 'to',\n",
       " 'from',\n",
       " 'up',\n",
       " 'down',\n",
       " 'in',\n",
       " 'out',\n",
       " 'on',\n",
       " 'off',\n",
       " 'over',\n",
       " 'under',\n",
       " 'again',\n",
       " 'further',\n",
       " 'then',\n",
       " 'once',\n",
       " 'here',\n",
       " 'there',\n",
       " 'when',\n",
       " 'where',\n",
       " 'why',\n",
       " 'how',\n",
       " 'all',\n",
       " 'any',\n",
       " 'both',\n",
       " 'each',\n",
       " 'few',\n",
       " 'more',\n",
       " 'most',\n",
       " 'other',\n",
       " 'some',\n",
       " 'such',\n",
       " 'no',\n",
       " 'nor',\n",
       " 'not',\n",
       " 'only',\n",
       " 'own',\n",
       " 'same',\n",
       " 'so',\n",
       " 'than',\n",
       " 'too',\n",
       " 'very',\n",
       " 's',\n",
       " 't',\n",
       " 'can',\n",
       " 'will',\n",
       " 'just',\n",
       " 'don',\n",
       " \"don't\",\n",
       " 'should',\n",
       " \"should've\",\n",
       " 'now',\n",
       " 'd',\n",
       " 'll',\n",
       " 'm',\n",
       " 'o',\n",
       " 're',\n",
       " 've',\n",
       " 'y',\n",
       " 'ain',\n",
       " 'aren',\n",
       " \"aren't\",\n",
       " 'couldn',\n",
       " \"couldn't\",\n",
       " 'didn',\n",
       " \"didn't\",\n",
       " 'doesn',\n",
       " \"doesn't\",\n",
       " 'hadn',\n",
       " \"hadn't\",\n",
       " 'hasn',\n",
       " \"hasn't\",\n",
       " 'haven',\n",
       " \"haven't\",\n",
       " 'isn',\n",
       " \"isn't\",\n",
       " 'ma',\n",
       " 'mightn',\n",
       " \"mightn't\",\n",
       " 'mustn',\n",
       " \"mustn't\",\n",
       " 'needn',\n",
       " \"needn't\",\n",
       " 'shan',\n",
       " \"shan't\",\n",
       " 'shouldn',\n",
       " \"shouldn't\",\n",
       " 'wasn',\n",
       " \"wasn't\",\n",
       " 'weren',\n",
       " \"weren't\",\n",
       " 'won',\n",
       " \"won't\",\n",
       " 'wouldn',\n",
       " \"wouldn't\"]"
      ]
     },
     "execution_count": 4,
     "metadata": {},
     "output_type": "execute_result"
    }
   ],
   "source": [
    "stopwords.words('english') #ingilizce stopword kelimeleri"
   ]
  },
  {
   "cell_type": "code",
   "execution_count": 6,
   "id": "820761a8",
   "metadata": {},
   "outputs": [],
   "source": [
    "words= word_tokenize(text)"
   ]
  },
  {
   "cell_type": "code",
   "execution_count": 7,
   "id": "0327c4dc",
   "metadata": {},
   "outputs": [
    {
     "name": "stdout",
     "output_type": "stream",
     "text": [
      "['Alan', 'Mathison', 'Turing', '(', '23', 'Haziran', '1912', '–', '7', 'Haziran', '1954', ')', ',', 'İngiliz', 'matematikçi', ',', 'bilgisayar', 'bilimcisi', 've', 'kriptolog', '.', 'Bilgisayar', 'biliminin', 'kurucusu', 'sayılır', '.', 'Geliştirmiş', 'olduğu', 'Turing', 'testi', 'ile', 'makinelerin', 've', 'bilgisayarların', 'düşünme', 'yetisine', 'sahip', 'olup', 'olamayacakları', 'konusunda', 'bir', 'kriter', 'öne', 'sürmüştür.I.Dünya', 'Savaşı', 'sırasında', 'Alman', 'şifrelerinin', 'kırılmasında', 'çok', 'önemli', 'bir', 'rol', 'oynadığı', 'için', 'savaş', 'kahramanı', 'sayılmıştır', '.', 'Ayrıca', 'Manchester', \"Üniversitesi'nde\", 'çalıştığı', 'yıllarda', ',', 'Turing', 'makinesi', 'denilen', 'algoritma', 'tanımı', 'ile', 'modern', 'bilgisayarların', 'kavramsal', 'temelini', 'atmıştır.Adı', 'ayrıca', \"Princeton'da\", 'beraber', 'çalıştığı', 'tez', 'hocası', 'Alonzo', 'Church', 'ile', 'geliştirdiği', 'Church-Turing', 'Hipotezi', 'ile', 'de', 'matematik', 'tarihine', 'geçmiştir', '.', 'Bu', 'tez', ',', 'bir', 'algoritmayla', 'tarif', 'edilebilecek', 'tüm', 'hesaplamaların', 'dört', 'işlem', ',', 'projeksiyon', ',', 'eklemleme', 've', 'tarama', 'operasyonları', 'ile', 'tarif', 'edilebilecek', 'hesaplamalardan', 'ibaret', 'olduğunu', 'ifade', 'eder', '.', 'Bir', 'matematiksel', 'teorem', 'olmaktan', 'ziyade', 'matematik', 'felsefesi', 'hakkında', 'çürütülememiş', 'bir', 'hipotezdir', '.']\n"
     ]
    }
   ],
   "source": [
    "print(words)"
   ]
  },
  {
   "cell_type": "code",
   "execution_count": 18,
   "id": "abfc63e2",
   "metadata": {},
   "outputs": [],
   "source": [
    "filtered_words=[]\n",
    "for word in words:\n",
    "    if word  in stopwords: #if word not in stopwords ile stopword olmayan kelimeleri yazabiliriz\n",
    "        filtered_words.append(word)"
   ]
  },
  {
   "cell_type": "code",
   "execution_count": 19,
   "id": "54237ce2",
   "metadata": {},
   "outputs": [
    {
     "data": {
      "text/plain": [
       "['ve',\n",
       " 'ile',\n",
       " 've',\n",
       " 'çok',\n",
       " 'için',\n",
       " 'ile',\n",
       " 'ile',\n",
       " 'ile',\n",
       " 'de',\n",
       " 'tüm',\n",
       " 've',\n",
       " 'ile']"
      ]
     },
     "execution_count": 19,
     "metadata": {},
     "output_type": "execute_result"
    }
   ],
   "source": [
    "filtered_words"
   ]
  },
  {
   "cell_type": "code",
   "execution_count": null,
   "id": "6f5fef7d",
   "metadata": {},
   "outputs": [],
   "source": []
  }
 ],
 "metadata": {
  "kernelspec": {
   "display_name": "Python 3 (ipykernel)",
   "language": "python",
   "name": "python3"
  },
  "language_info": {
   "codemirror_mode": {
    "name": "ipython",
    "version": 3
   },
   "file_extension": ".py",
   "mimetype": "text/x-python",
   "name": "python",
   "nbconvert_exporter": "python",
   "pygments_lexer": "ipython3",
   "version": "3.9.13"
  }
 },
 "nbformat": 4,
 "nbformat_minor": 5
}
